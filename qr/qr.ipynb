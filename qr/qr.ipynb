{
 "cells": [
  {
   "attachments": {},
   "cell_type": "markdown",
   "metadata": {},
   "source": [
    "## 测试几个python下二维码识别的方法\n",
    "### 第一种方法 pyzbar\n",
    "\n",
    "需要安装 pyzbar，系统需要安装zbar(我的系统是fedora36):\n",
    "\n",
    "```bash\n",
    "pip install pyzbar\n",
    "sudo dnf install zbar  ## fedora\n",
    "## sudo apt install zbar ## ubuntu 猜测\n",
    "```\n",
    "\n"
   ]
  },
  {
   "cell_type": "code",
   "execution_count": 2,
   "metadata": {},
   "outputs": [
    {
     "name": "stdout",
     "output_type": "stream",
     "text": [
      "ocr文字识别\n"
     ]
    }
   ],
   "source": [
    "import pyzbar.pyzbar as pyzbar\n",
    "from PIL import Image\n",
    "barcodes = pyzbar.decode(Image.open('test.jpeg'))\n",
    "for barcode in barcodes:\n",
    "    barcodeData = barcode.data.decode(\"utf-8\")\n",
    "    print(barcodeData)"
   ]
  },
  {
   "attachments": {},
   "cell_type": "markdown",
   "metadata": {},
   "source": [
    "第二种方法，OpenCV简单调用\n",
    "\n",
    "此种方法适合一般情况较容易识别的二维码，对于一些复杂的二维码，识别率不高\n",
    "\n"
   ]
  },
  {
   "cell_type": "code",
   "execution_count": 3,
   "metadata": {},
   "outputs": [
    {
     "name": "stdout",
     "output_type": "stream",
     "text": [
      "ocr文字识别 [[[1338.  537.]\n",
      "  [3263.  537.]\n",
      "  [3269. 2462.]\n",
      "  [1343. 2462.]]] [[  0   0   0   0   0   0   0 255 255   0   0   0   0   0   0 255 255   0\n",
      "  255 255 255 255   0   0   0   0   0   0   0]\n",
      " [  0 255 255 255 255 255   0 255 255 255 255 255   0 255   0 255   0 255\n",
      "    0 255 255 255   0 255 255 255 255 255   0]\n",
      " [  0 255   0   0   0 255   0 255 255 255 255 255   0 255   0 255 255   0\n",
      "    0   0 255 255   0 255   0   0   0 255   0]\n",
      " [  0 255   0 255   0 255   0 255 255   0   0   0 255   0 255 255 255 255\n",
      "    0 255 255 255   0 255   0 255   0 255   0]\n",
      " [  0 255   0   0   0 255   0 255   0   0 255   0   0 255 255 255 255 255\n",
      "  255   0   0 255   0 255   0   0   0 255   0]\n",
      " [  0 255 255 255 255 255   0 255 255 255   0 255   0   0   0   0   0   0\n",
      "    0 255 255 255   0 255 255 255 255 255   0]\n",
      " [  0   0   0   0   0   0   0 255   0 255   0 255   0 255   0 255   0 255\n",
      "    0 255   0 255   0   0   0   0   0   0   0]\n",
      " [255 255 255 255 255 255 255 255   0   0 255 255   0   0 255 255   0 255\n",
      "  255 255   0 255 255 255 255 255 255 255 255]\n",
      " [255 255   0   0 255 255   0   0   0   0 255   0   0 255 255   0 255 255\n",
      "    0 255 255   0   0 255   0 255 255 255 255]\n",
      " [255   0   0   0 255 255 255 255 255 255 255 255   0   0   0   0 255   0\n",
      "    0 255   0   0 255   0 255 255   0   0   0]\n",
      " [255   0 255 255 255 255   0   0   0   0   0 255 255 255   0 255 255 255\n",
      "    0   0 255   0 255   0   0 255   0   0 255]\n",
      " [  0 255   0   0   0 255 255 255 255 255   0   0   0   0   0 255   0 255\n",
      "  255 255   0   0 255   0 255   0   0   0 255]\n",
      " [255   0   0 255   0 255   0   0 255 255 255 255 255   0   0   0 255   0\n",
      "  255   0 255 255   0 255   0 255   0 255   0]\n",
      " [  0 255 255   0 255 255 255 255   0 255   0   0   0   0 255 255   0 255\n",
      "    0   0 255 255   0   0   0 255   0 255 255]\n",
      " [  0   0   0 255 255 255   0 255   0   0 255   0   0 255   0 255 255   0\n",
      "    0 255   0 255   0 255   0 255   0 255 255]\n",
      " [  0 255   0   0   0   0 255   0 255 255 255 255 255 255 255 255   0 255\n",
      "    0   0   0 255 255   0   0   0 255 255 255]\n",
      " [255   0 255 255 255 255   0   0 255   0 255 255 255 255   0 255 255   0\n",
      "  255 255 255 255 255 255 255   0 255   0 255]\n",
      " [255   0 255 255   0   0 255 255 255 255 255   0 255   0 255   0 255   0\n",
      "  255   0 255   0   0 255 255   0   0 255 255]\n",
      " [  0 255   0 255   0 255   0   0 255 255   0   0   0 255 255   0 255   0\n",
      "    0 255   0 255 255   0   0   0   0 255 255]\n",
      " [255 255   0   0 255 255 255 255   0 255 255 255 255   0 255   0 255 255\n",
      "    0 255   0   0 255   0 255 255   0   0   0]\n",
      " [255   0   0 255 255   0   0 255   0   0 255   0   0 255   0 255   0   0\n",
      "  255   0 255   0   0   0   0   0 255   0 255]\n",
      " [255 255 255 255 255 255 255 255   0   0 255 255   0   0   0 255   0   0\n",
      "    0   0   0 255 255 255   0 255 255   0   0]\n",
      " [  0   0   0   0   0   0   0 255   0 255 255   0 255 255 255 255 255 255\n",
      "    0 255   0 255   0 255   0 255 255   0   0]\n",
      " [  0 255 255 255 255 255   0 255 255 255   0   0   0   0   0 255   0 255\n",
      "  255   0   0 255 255 255   0 255   0 255 255]\n",
      " [  0 255   0   0   0 255   0 255 255   0   0 255   0   0 255 255   0   0\n",
      "    0 255 255   0   0   0   0 255   0 255 255]\n",
      " [  0 255 255 255   0 255   0 255   0 255   0 255   0 255   0 255 255   0\n",
      "  255   0   0 255   0 255 255   0 255 255 255]\n",
      " [  0 255   0   0   0 255   0 255   0   0 255   0 255 255 255 255   0 255\n",
      "    0 255   0 255 255 255   0 255   0 255   0]\n",
      " [  0 255 255 255 255 255   0 255 255 255 255   0   0   0   0 255 255   0\n",
      "    0 255 255 255   0 255 255   0 255   0 255]\n",
      " [  0   0   0   0   0   0   0 255 255   0   0 255 255   0   0 255   0 255\n",
      "    0   0 255 255   0 255 255 255   0   0 255]]\n"
     ]
    }
   ],
   "source": [
    "import cv2\n",
    "img = cv2.imread('test.jpeg')\n",
    "qr_det = cv2.QRCodeDetector()\n",
    "codeinfo, points, straight_qrcode = qr_det.detectAndDecode(img)\n",
    "print(codeinfo, points, straight_qrcode)"
   ]
  },
  {
   "attachments": {},
   "cell_type": "markdown",
   "metadata": {},
   "source": [
    "第三种方法，使用OpenCV的Wechat qrcode 模型，需要首先下载模型文件\n",
    "\n",
    "这种方法要求OpenCV版本大于4.5.1,如果版本不够，执行升级安装，还需要安opencv contrib,\n",
    "\n",
    "如果使用ipy notebook,安装完成后重启内核\n",
    "\n",
    "```bash\n",
    "pip install --upgrade opencv-python\n",
    "pip install opencv_contrib_python\n",
    "```\n",
    "\n",
    "原始下载地址在github： https://github.com/opencv/opencv_3rdparty/tree/wechat_qrcode_20210119\n",
    "\n",
    "我已经下载好了，四个文件：两个检测模型，两个超分辨模型"
   ]
  },
  {
   "cell_type": "code",
   "execution_count": 4,
   "metadata": {},
   "outputs": [
    {
     "name": "stdout",
     "output_type": "stream",
     "text": [
      "4.8.0\n",
      "('ocr文字识别',) (array([[1339.9768,  535.9768],\n",
      "       [3265.4316,  535.5682],\n",
      "       [3268.4194, 2464.4197],\n",
      "       [1339.5681, 2461.4316]], dtype=float32),)\n"
     ]
    }
   ],
   "source": [
    "import cv2\n",
    "print(cv2.__version__)\n",
    "detect_obj = cv2.wechat_qrcode_WeChatQRCode('wechat_qrcode/detect.prototxt', 'wechat_qrcode/detect.caffemodel', 'wechat_qrcode/sr.prototxt', 'wechat_qrcode/sr.caffemodel')\n",
    "codeinfo, points = detect_obj.detectAndDecode(img)\n",
    "print(codeinfo, points) "
   ]
  }
 ],
 "metadata": {
  "kernelspec": {
   "display_name": "base",
   "language": "python",
   "name": "python3"
  },
  "language_info": {
   "codemirror_mode": {
    "name": "ipython",
    "version": 3
   },
   "file_extension": ".py",
   "mimetype": "text/x-python",
   "name": "python",
   "nbconvert_exporter": "python",
   "pygments_lexer": "ipython3",
   "version": "3.8.13"
  },
  "orig_nbformat": 4
 },
 "nbformat": 4,
 "nbformat_minor": 2
}
